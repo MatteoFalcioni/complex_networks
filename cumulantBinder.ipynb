{
 "cells": [
  {
   "cell_type": "code",
   "execution_count": 1,
   "metadata": {},
   "outputs": [],
   "source": [
    "# Calculate binder cumulant many times for the same simulation with the same temperature"
   ]
  },
  {
   "cell_type": "code",
   "execution_count": 3,
   "metadata": {},
   "outputs": [],
   "source": [
    "from isingNetwork import IsingModel\n",
    "from euclidianNetwork import EuclidianNetwork\n",
    "from tqdm import tqdm\n",
    "\n",
    "N = 100\n",
    "delta = 2\n",
    "\n",
    "g = EuclidianNetwork(N,delta)\n",
    "model = IsingModel(g.get_graph())"
   ]
  },
  {
   "cell_type": "code",
   "execution_count": 7,
   "metadata": {},
   "outputs": [
    {
     "name": "stderr",
     "output_type": "stream",
     "text": [
      "100%|██████████| 10/10 [01:04<00:00,  6.45s/it]\n"
     ]
    }
   ],
   "source": [
    "times = 10\n",
    "\n",
    "b = []\n",
    "\n",
    "for _ in tqdm(range(times)):\n",
    "    result = model.simulate(temperature=10)\n",
    "    b.append(result['binder_cumulant'])"
   ]
  },
  {
   "cell_type": "code",
   "execution_count": 8,
   "metadata": {},
   "outputs": [
    {
     "data": {
      "text/plain": [
       "[-1.5161643850373858,\n",
       " -2.201331440074373,\n",
       " -2.625150806736093,\n",
       " -1.7197986968856807,\n",
       " -2.4407891303485147,\n",
       " -1.4569292061333354,\n",
       " -1.769255275767176,\n",
       " -1.7606652066251183,\n",
       " -1.2175515191645698,\n",
       " -2.0905581323452185]"
      ]
     },
     "execution_count": 8,
     "metadata": {},
     "output_type": "execute_result"
    }
   ],
   "source": [
    "b"
   ]
  },
  {
   "cell_type": "code",
   "execution_count": 9,
   "metadata": {},
   "outputs": [],
   "source": [
    "#You can see that even at high temperature this value oscillate quite a lot.\n",
    "# The paper says: From the intersection of U for different N in the plot of U vs T we estimate Tc\n",
    "# However, for a single temperature U is not so defined. And in fact it changes a lot for more simulations with the same parameters.\n",
    "\n",
    "# Now I'll try to increase the number of iterations to see if the system reaches a more stable equilibrium"
   ]
  },
  {
   "cell_type": "code",
   "execution_count": 10,
   "metadata": {},
   "outputs": [
    {
     "name": "stderr",
     "output_type": "stream",
     "text": [
      "100%|██████████| 10/10 [10:54<00:00, 65.47s/it]\n"
     ]
    }
   ],
   "source": [
    "for _ in tqdm(range(times)):\n",
    "    result = model.simulate(temperature=10, iterations=100000)\n",
    "    b.append(result['binder_cumulant'])"
   ]
  },
  {
   "cell_type": "code",
   "execution_count": 12,
   "metadata": {},
   "outputs": [
    {
     "data": {
      "text/plain": [
       "[-0.3517220036610451,\n",
       " -0.39252501752188973,\n",
       " -0.48262487550488054,\n",
       " -0.25844019324905454,\n",
       " -0.37548946350405044,\n",
       " -0.17689374038075778,\n",
       " -0.27836949300580516,\n",
       " -0.3520732146805543,\n",
       " -0.3409118899171142,\n",
       " -0.2639365219883978]"
      ]
     },
     "execution_count": 12,
     "metadata": {},
     "output_type": "execute_result"
    }
   ],
   "source": [
    "b[times:]"
   ]
  },
  {
   "cell_type": "code",
   "execution_count": null,
   "metadata": {},
   "outputs": [],
   "source": [
    "#Way better, but 100000 iterations for each T value are A LOT"
   ]
  }
 ],
 "metadata": {
  "kernelspec": {
   "display_name": "Python 3",
   "language": "python",
   "name": "python3"
  },
  "language_info": {
   "codemirror_mode": {
    "name": "ipython",
    "version": 3
   },
   "file_extension": ".py",
   "mimetype": "text/x-python",
   "name": "python",
   "nbconvert_exporter": "python",
   "pygments_lexer": "ipython3",
   "version": "3.11.3"
  },
  "orig_nbformat": 4
 },
 "nbformat": 4,
 "nbformat_minor": 2
}
