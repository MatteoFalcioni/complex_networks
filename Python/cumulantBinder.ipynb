{
 "cells": [
  {
   "cell_type": "code",
   "execution_count": null,
   "metadata": {},
   "outputs": [],
   "source": [
    "# Calculate binder cumulant many times for the same simulation with the same temperature"
   ]
  },
  {
   "cell_type": "code",
   "execution_count": 1,
   "metadata": {},
   "outputs": [],
   "source": [
    "from isingNetwork import IsingModel\n",
    "from euclidianNetwork import EuclidianNetwork\n",
    "from tqdm import tqdm\n",
    "\n",
    "N = 100\n",
    "delta = 2\n",
    "\n",
    "g = EuclidianNetwork(N,delta)\n",
    "model = IsingModel(g.get_graph())"
   ]
  },
  {
   "cell_type": "code",
   "execution_count": 2,
   "metadata": {},
   "outputs": [
    {
     "name": "stderr",
     "output_type": "stream",
     "text": [
      "100%|██████████| 10/10 [00:35<00:00,  3.60s/it]\n"
     ]
    }
   ],
   "source": [
    "times = 10\n",
    "\n",
    "b = []\n",
    "\n",
    "for _ in tqdm(range(times)):\n",
    "    result = model.simulate(temperature=3, iterations=10000)\n",
    "    b.append(result['binder_cumulant'])"
   ]
  },
  {
   "cell_type": "code",
   "execution_count": 3,
   "metadata": {},
   "outputs": [
    {
     "data": {
      "text/plain": [
       "[-0.646193695757932,\n",
       " -0.6646020840565927,\n",
       " -0.9662526747906544,\n",
       " -0.6357492336370523,\n",
       " -0.6454312613907254,\n",
       " -1.0743044963372617,\n",
       " -1.2431748929063207,\n",
       " -0.7208228417189497,\n",
       " -0.669284193900306,\n",
       " -0.6777626331099318]"
      ]
     },
     "execution_count": 3,
     "metadata": {},
     "output_type": "execute_result"
    }
   ],
   "source": [
    "b"
   ]
  },
  {
   "cell_type": "code",
   "execution_count": null,
   "metadata": {},
   "outputs": [],
   "source": [
    "#You can see that even at high temperature this value oscillate quite a lot.\n",
    "# The paper says: From the intersection of U for different N in the plot of U vs T we estimate Tc\n",
    "# However, for a single temperature U is not so defined. And in fact it changes a lot for more simulations with the same parameters.\n",
    "\n",
    "# Now I'll try to increase the number of iterations to see if the system reaches a more stable equilibrium"
   ]
  },
  {
   "cell_type": "code",
   "execution_count": 5,
   "metadata": {},
   "outputs": [
    {
     "name": "stderr",
     "output_type": "stream",
     "text": [
      "100%|██████████| 10/10 [06:31<00:00, 39.18s/it]\n"
     ]
    }
   ],
   "source": [
    "for _ in tqdm(range(times)):\n",
    "    result = model.simulate(temperature=3, iterations=100000)\n",
    "    b.append(result['binder_cumulant'])"
   ]
  },
  {
   "cell_type": "code",
   "execution_count": 22,
   "metadata": {},
   "outputs": [
    {
     "name": "stdout",
     "output_type": "stream",
     "text": [
      "[-0.646193695757932, -0.6646020840565927, -0.9662526747906544, -0.6357492336370523, -0.6454312613907254, -1.0743044963372617, -1.2431748929063207, -0.7208228417189497, -0.669284193900306, -0.6777626331099318, -0.7278689020147913, -1.122245889150796, -0.8712065009292624, -0.8076003471514237, -1.06694200655184, -0.7115399426611198, -0.9835960190687074, -1.1606880334857226, -0.8681240375563943, -0.8434846082970622]\n",
      "-0.7278689020147913\n"
     ]
    }
   ],
   "source": [
    "print(b[times])"
   ]
  }
 ],
 "metadata": {
  "kernelspec": {
   "display_name": "Python 3",
   "language": "python",
   "name": "python3"
  },
  "language_info": {
   "codemirror_mode": {
    "name": "ipython",
    "version": 3
   },
   "file_extension": ".py",
   "mimetype": "text/x-python",
   "name": "python",
   "nbconvert_exporter": "python",
   "pygments_lexer": "ipython3",
   "version": "3.11.3"
  },
  "orig_nbformat": 4
 },
 "nbformat": 4,
 "nbformat_minor": 2
}
