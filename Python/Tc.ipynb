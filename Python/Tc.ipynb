{
 "cells": [
  {
   "cell_type": "code",
   "execution_count": null,
   "metadata": {},
   "outputs": [],
   "source": [
    "from isingNetwork import IsingModel\n",
    "from euclidianNetwork import EuclidianNetwork\n",
    "import numpy as np\n",
    "from tqdm import tqdm\n",
    "from joblib import Parallel, delayed    #to compute things in parallel\n",
    "import multiprocessing"
   ]
  },
  {
   "cell_type": "code",
   "execution_count": null,
   "metadata": {},
   "outputs": [],
   "source": [
    "epsilon = 0.4\n",
    "delta_range = np.arange(0.6,1.8,0.1)\n",
    "\n",
    "graph_delta = []\n",
    "graph_temperature = []"
   ]
  },
  {
   "cell_type": "code",
   "execution_count": null,
   "metadata": {},
   "outputs": [],
   "source": [
    "def simulateDelta(delta):\n",
    "    N_range = np.arange(50, 201, 50)\n",
    "\n",
    "    model = []\n",
    "    for N in N_range:\n",
    "        g = EuclidianNetwork(N, delta)\n",
    "        model.append(IsingModel(g.get_graph()))\n",
    "\n",
    "\n",
    "    binder = np.zeros(4)\n",
    "    temperature = 2\n",
    "\n",
    "    while(binder.max() - binder.min() < epsilon):\n",
    "\n",
    "        for i in range(len(model)):\n",
    "            data = model[i].simulate(temperature)\n",
    "            binder[i] = data['binder_cumulant']\n",
    "\n",
    "        temperature += 0.05\n",
    "\n",
    "    graph_delta.append(delta)\n",
    "    graph_temperature.append(temperature)"
   ]
  },
  {
   "cell_type": "code",
   "execution_count": null,
   "metadata": {},
   "outputs": [],
   "source": [
    "num_cores = multiprocessing.cpu_count()\n",
    "Parallel(n_jobs=num_cores)(delayed(simulateDelta)(delta) for delta in delta_range)"
   ]
  },
  {
   "cell_type": "code",
   "execution_count": null,
   "metadata": {},
   "outputs": [],
   "source": [
    "import matplotlib.pyplot as plt\n",
    "\n",
    "plt.scatter(graph_delta, graph_temperature)"
   ]
  }
 ],
 "metadata": {
  "kernelspec": {
   "display_name": "Python 3",
   "language": "python",
   "name": "python3"
  },
  "language_info": {
   "codemirror_mode": {
    "name": "ipython",
    "version": 3
   },
   "file_extension": ".py",
   "mimetype": "text/x-python",
   "name": "python",
   "nbconvert_exporter": "python",
   "pygments_lexer": "ipython3",
   "version": "3.11.3"
  },
  "orig_nbformat": 4
 },
 "nbformat": 4,
 "nbformat_minor": 2
}
