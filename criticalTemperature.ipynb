{
 "cells": [
  {
   "cell_type": "code",
   "execution_count": null,
   "metadata": {},
   "outputs": [],
   "source": [
    "#The value of critical temperature Tc can be estimated by analyzing the intersection of U for different N in the plot of U vs. T, \n",
    "#This method allows for the determination of Tc without relying on a specific system size\n",
    "#but instead examining the behavior across multiple system sizes."
   ]
  },
  {
   "cell_type": "code",
   "execution_count": null,
   "metadata": {},
   "outputs": [],
   "source": [
    "from euclidianNetwork import EuclidianNetwork\n",
    "from isingNetwork import IsingModel\n",
    "import numpy as np\n",
    "from tqdm import tqdm"
   ]
  },
  {
   "cell_type": "code",
   "execution_count": null,
   "metadata": {},
   "outputs": [],
   "source": [
    "N_range = np.arange(10, 100, 10)\n",
    "\n",
    "U = []  #empty list\n",
    "\n",
    "for N in tqdm(N_range):\n",
    "    g = EuclidianNetwork(N, 2)\n",
    "    model = IsingModel(g.get_graph())\n",
    "\n",
    "    model.iterate()\n",
    "    \n",
    "    U.append(model.get_data('binder_cumulant'))"
   ]
  },
  {
   "cell_type": "code",
   "execution_count": null,
   "metadata": {},
   "outputs": [],
   "source": [
    "g = EuclidianNetwork(100,2)\n",
    "model = IsingModel(g.get_graph())\n",
    "model.iterate()\n",
    "\n",
    "U.append(model.get_data('binder_cumulant'))"
   ]
  },
  {
   "cell_type": "code",
   "execution_count": null,
   "metadata": {},
   "outputs": [],
   "source": [
    "import matplotlib.pyplot as plt\n",
    "\n",
    "temperature_range = np.arange(0,10, 0.1)\n",
    "\n",
    "for i in range(len(U)):\n",
    "    plt.plot(temperature_range, U[i], label='Data '+ str(i))\n",
    "\n",
    "plt.legend()\n",
    "plt.show()\n"
   ]
  }
 ],
 "metadata": {
  "kernelspec": {
   "display_name": "Python 3",
   "language": "python",
   "name": "python3"
  },
  "language_info": {
   "codemirror_mode": {
    "name": "ipython",
    "version": 3
   },
   "file_extension": ".py",
   "mimetype": "text/x-python",
   "name": "python",
   "nbconvert_exporter": "python",
   "pygments_lexer": "ipython3",
   "version": "3.11.3"
  },
  "orig_nbformat": 4
 },
 "nbformat": 4,
 "nbformat_minor": 2
}
