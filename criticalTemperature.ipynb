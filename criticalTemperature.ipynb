{
 "cells": [
  {
   "cell_type": "code",
   "execution_count": null,
   "metadata": {},
   "outputs": [],
   "source": [
    "#The value of critical temperature Tc can be estimated by analyzing the intersection of U for different N in the plot of U vs. T, \n",
    "#This method allows for the determination of Tc without relying on a specific system size\n",
    "#but instead examining the behavior across multiple system sizes."
   ]
  },
  {
   "cell_type": "code",
   "execution_count": 1,
   "metadata": {},
   "outputs": [],
   "source": [
    "from euclidianNetwork import EuclidianNetwork\n",
    "from isingNetwork import IsingModel\n",
    "import numpy as np\n",
    "from tqdm import tqdm"
   ]
  },
  {
   "cell_type": "code",
   "execution_count": null,
   "metadata": {},
   "outputs": [],
   "source": [
    "N_range = np.arange(50, 201, 50)\n",
    "\n",
    "U = []  #empty list\n",
    "\n",
    "for N in tqdm(N_range):\n",
    "    g = EuclidianNetwork(N, 2)\n",
    "    model = IsingModel(g.get_graph())\n",
    "\n",
    "    model.iterate(iterations=100000)\n",
    "    \n",
    "    U.append(model.get_data('binder_cumulant'))"
   ]
  },
  {
   "cell_type": "code",
   "execution_count": null,
   "metadata": {},
   "outputs": [],
   "source": [
    "import matplotlib.pyplot as plt\n",
    "\n",
    "temp_range = model.get_temperature_range()\n",
    "\n",
    "for i in range(len(U)):\n",
    "    plt.plot(temp_range, U[i], label='N='+ str(N_range[i]))\n",
    "\n",
    "plt.legend()\n",
    "plt.xlabel('Temperature')\n",
    "plt.ylabel('Binder cumulant')\n",
    "plt.show()"
   ]
  },
  {
   "cell_type": "code",
   "execution_count": null,
   "metadata": {},
   "outputs": [],
   "source": [
    "# Lots of fluctuation even with 100000 iterations"
   ]
  },
  {
   "cell_type": "code",
   "execution_count": null,
   "metadata": {},
   "outputs": [],
   "source": [
    "# save U\n",
    "\n",
    "np.savez('U(T)_N(10,100).npz', *U)"
   ]
  },
  {
   "cell_type": "code",
   "execution_count": null,
   "metadata": {},
   "outputs": [],
   "source": [
    "#To load the same data:\n",
    "loaded_data = np.load('U(T)_N(10,100).npz')\n",
    "loaded_list = [loaded_data[key] for key in loaded_data.keys()]\n",
    "\n",
    "temp_range = np.arange(0,10,0.1)\n",
    "N_range = np.arange(10,101,10)\n",
    "\n",
    "for i in range(len(loaded_list)):\n",
    "    plt.plot(temp_range, loaded_list[i], label='N='+ str(N_range[i]))\n",
    "\n",
    "plt.legend()\n",
    "plt.xlabel('Temperature')\n",
    "plt.ylabel('Binder cumulant')\n",
    "plt.show()"
   ]
  }
 ],
 "metadata": {
  "kernelspec": {
   "display_name": "Python 3",
   "language": "python",
   "name": "python3"
  },
  "language_info": {
   "codemirror_mode": {
    "name": "ipython",
    "version": 3
   },
   "file_extension": ".py",
   "mimetype": "text/x-python",
   "name": "python",
   "nbconvert_exporter": "python",
   "pygments_lexer": "ipython3",
   "version": "3.11.3"
  },
  "orig_nbformat": 4
 },
 "nbformat": 4,
 "nbformat_minor": 2
}
